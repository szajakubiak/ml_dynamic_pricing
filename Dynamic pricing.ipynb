{
 "cells": [
  {
   "cell_type": "code",
   "execution_count": null,
   "id": "5f4fcbfc-b5e1-4538-a4ce-0df6188e3207",
   "metadata": {},
   "outputs": [],
   "source": [
    "import pandas as pd"
   ]
  },
  {
   "cell_type": "code",
   "execution_count": null,
   "id": "fd4ca8a2-0bad-4453-a53b-f0c6a6bc5d83",
   "metadata": {},
   "outputs": [],
   "source": [
    "df = pd.read_csv(\"dynamic_pricing.csv\")\n",
    "df.head()"
   ]
  },
  {
   "cell_type": "markdown",
   "id": "746a3f0b-f80d-40f5-8b32-5a21fa864a96",
   "metadata": {},
   "source": [
    "## Categorical encoding\n",
    "\n",
    "### Label encoding\n",
    "\n",
    "Convert ordered categories into numerical column based on defined mapping."
   ]
  },
  {
   "cell_type": "code",
   "execution_count": null,
   "id": "a5601946-c87a-48e1-a49d-60a2b5d163d2",
   "metadata": {},
   "outputs": [],
   "source": [
    "customer_loyalty_mapping = {\"Regular\": 0, \"Silver\": 1, \"Gold\": 2}\n",
    "vehicle_type_mapping = {\"Economy\": 0, \"Premium\": 1}"
   ]
  },
  {
   "cell_type": "code",
   "execution_count": null,
   "id": "446d29a8-ffb0-4c70-b779-4344de57454d",
   "metadata": {},
   "outputs": [],
   "source": [
    "def label_encode(df: pd.DataFrame, column: str, mapping: dict) -> pd.DataFrame:\n",
    "    df[column + \"_Encoded\"] = df[column].map(mapping)\n",
    "    df = df.drop(column, axis=1)\n",
    "    return df"
   ]
  },
  {
   "cell_type": "code",
   "execution_count": null,
   "id": "d4ccb132-74ab-4fba-8de9-bdafb63c1d14",
   "metadata": {},
   "outputs": [],
   "source": [
    "df = label_encode(df, \"Customer_Loyalty_Status\", customer_loyalty_mapping)\n",
    "df = label_encode(df, \"Vehicle_Type\", vehicle_type_mapping)\n",
    "df.head()"
   ]
  },
  {
   "cell_type": "markdown",
   "id": "b2bcd66d-d1f9-4c12-8bbd-d0f7f958fa94",
   "metadata": {},
   "source": [
    "### One-hot encoding\n",
    "\n",
    "Convert categories into binary columns."
   ]
  },
  {
   "cell_type": "code",
   "execution_count": null,
   "id": "ca8496a3-39d5-4f91-9ee2-35c1effaeff1",
   "metadata": {},
   "outputs": [],
   "source": [
    "def category_to_columns(df: pd.DataFrame, column: str) -> pd.DataFrame:\n",
    "    df_dummies = pd.get_dummies(df[column], prefix=column, dtype=int)\n",
    "    df = df.drop(column, axis=1)\n",
    "    return pd.concat([df, df_dummies], axis=1)"
   ]
  },
  {
   "cell_type": "code",
   "execution_count": null,
   "id": "be6751f8-51cd-4b14-bb86-ec2446b5aa62",
   "metadata": {},
   "outputs": [],
   "source": [
    "df = category_to_columns(df, \"Location_Category\")\n",
    "df = category_to_columns(df, \"Time_of_Booking\")\n",
    "df.head()"
   ]
  },
  {
   "cell_type": "code",
   "execution_count": null,
   "id": "76ac3455-8b78-435a-bea3-2865a4d1b33f",
   "metadata": {},
   "outputs": [],
   "source": [
    "df.corr(method=\"pearson\").round(3)[\"Historical_Cost_of_Ride\"]"
   ]
  },
  {
   "cell_type": "code",
   "execution_count": null,
   "id": "43f1bb1b-0ffb-4b78-8120-e1cd87464bba",
   "metadata": {},
   "outputs": [],
   "source": [
    "PERCENTILE = 0.8\n",
    "PERCENTILE_WINDOW = 0.1\n",
    "price_lambda = df[\"Historical_Cost_of_Ride\"].max() * PERCENTILE_WINDOW / 2\n",
    "price_percentile = df[\"Historical_Cost_of_Ride\"].quantile(PERCENTILE)\n",
    "df_selected = df[(df[\"Historical_Cost_of_Ride\"] < price_percentile + price_lambda) & (df[\"Historical_Cost_of_Ride\"] > price_percentile - price_lambda)]\n",
    "df_selected.corr(method=\"pearson\").round(3).sort_values(by=\"Historical_Cost_of_Ride\", ascending=False)[\"Historical_Cost_of_Ride\"].iloc[1:]"
   ]
  },
  {
   "cell_type": "code",
   "execution_count": null,
   "id": "142ddcf6-833e-4279-81fc-14338f7f43c7",
   "metadata": {},
   "outputs": [],
   "source": []
  }
 ],
 "metadata": {
  "kernelspec": {
   "display_name": "Python 3 (ipykernel)",
   "language": "python",
   "name": "python3"
  },
  "language_info": {
   "codemirror_mode": {
    "name": "ipython",
    "version": 3
   },
   "file_extension": ".py",
   "mimetype": "text/x-python",
   "name": "python",
   "nbconvert_exporter": "python",
   "pygments_lexer": "ipython3",
   "version": "3.11.0"
  }
 },
 "nbformat": 4,
 "nbformat_minor": 5
}
