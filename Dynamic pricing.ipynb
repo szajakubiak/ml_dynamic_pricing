{
 "cells": [
  {
   "cell_type": "code",
   "execution_count": null,
   "id": "5f4fcbfc-b5e1-4538-a4ce-0df6188e3207",
   "metadata": {},
   "outputs": [],
   "source": [
    "import pandas as pd\n",
    "from tensorflow.keras.models import Sequential\n",
    "from tensorflow.keras.layers import Dense"
   ]
  },
  {
   "cell_type": "markdown",
   "id": "1974dda7-a7f1-450e-81bc-7edbb359c93e",
   "metadata": {},
   "source": [
    "## Input data"
   ]
  },
  {
   "cell_type": "code",
   "execution_count": null,
   "id": "fd4ca8a2-0bad-4453-a53b-f0c6a6bc5d83",
   "metadata": {},
   "outputs": [],
   "source": [
    "df = pd.read_csv(\"dynamic_pricing.csv\")\n",
    "df.head()"
   ]
  },
  {
   "cell_type": "markdown",
   "id": "746a3f0b-f80d-40f5-8b32-5a21fa864a96",
   "metadata": {},
   "source": [
    "## Categorical encoding\n",
    "\n",
    "### Label encoding\n",
    "Convert ordered categories into numerical column based on defined mapping."
   ]
  },
  {
   "cell_type": "code",
   "execution_count": null,
   "id": "a5601946-c87a-48e1-a49d-60a2b5d163d2",
   "metadata": {},
   "outputs": [],
   "source": [
    "customer_loyalty_mapping = {\"Regular\": 0, \"Silver\": 1, \"Gold\": 2}\n",
    "vehicle_type_mapping = {\"Economy\": 0, \"Premium\": 1}"
   ]
  },
  {
   "cell_type": "code",
   "execution_count": null,
   "id": "446d29a8-ffb0-4c70-b779-4344de57454d",
   "metadata": {},
   "outputs": [],
   "source": [
    "def label_encode(df: pd.DataFrame, column: str, mapping: dict) -> pd.DataFrame:\n",
    "    df[column + \"_Encoded\"] = df[column].map(mapping)\n",
    "    df = df.drop(column, axis=1)\n",
    "    return df"
   ]
  },
  {
   "cell_type": "code",
   "execution_count": null,
   "id": "d4ccb132-74ab-4fba-8de9-bdafb63c1d14",
   "metadata": {},
   "outputs": [],
   "source": [
    "df = label_encode(df, \"Customer_Loyalty_Status\", customer_loyalty_mapping)\n",
    "df = label_encode(df, \"Vehicle_Type\", vehicle_type_mapping)\n",
    "df.head()"
   ]
  },
  {
   "cell_type": "markdown",
   "id": "b2bcd66d-d1f9-4c12-8bbd-d0f7f958fa94",
   "metadata": {},
   "source": [
    "### One-hot encoding\n",
    "Convert categories into binary columns."
   ]
  },
  {
   "cell_type": "code",
   "execution_count": null,
   "id": "ca8496a3-39d5-4f91-9ee2-35c1effaeff1",
   "metadata": {},
   "outputs": [],
   "source": [
    "def category_to_columns(df: pd.DataFrame, column: str) -> pd.DataFrame:\n",
    "    df_dummies = pd.get_dummies(df[column], prefix=column, dtype=int)\n",
    "    df = df.drop(column, axis=1)\n",
    "    return pd.concat([df, df_dummies], axis=1)"
   ]
  },
  {
   "cell_type": "code",
   "execution_count": null,
   "id": "be6751f8-51cd-4b14-bb86-ec2446b5aa62",
   "metadata": {},
   "outputs": [],
   "source": [
    "df = category_to_columns(df, \"Location_Category\")\n",
    "df = category_to_columns(df, \"Time_of_Booking\")\n",
    "df.head()"
   ]
  },
  {
   "cell_type": "markdown",
   "id": "b3c4c38b-33f1-4662-9661-2843f8f3e577",
   "metadata": {},
   "source": [
    "## Combine variables\n",
    "Create new variable by calculating difference between variables."
   ]
  },
  {
   "cell_type": "code",
   "execution_count": null,
   "id": "e43b487b-c71e-4863-bf8c-076dbdb836d0",
   "metadata": {},
   "outputs": [],
   "source": [
    "df[\"Drivers_Riders_Difference\"] = df[\"Number_of_Drivers\"] - df[\"Number_of_Riders\"]\n",
    "df = df.drop([\"Number_of_Drivers\", \"Number_of_Riders\"], axis=1)\n",
    "df.head()"
   ]
  },
  {
   "cell_type": "markdown",
   "id": "59459dbe-0369-4afb-9fce-bc9aab0f7590",
   "metadata": {},
   "source": [
    "## Correlation analysis\n",
    "\n",
    "Pearson correlations for the while dataset:"
   ]
  },
  {
   "cell_type": "code",
   "execution_count": null,
   "id": "76ac3455-8b78-435a-bea3-2865a4d1b33f",
   "metadata": {},
   "outputs": [],
   "source": [
    "df.corr(method=\"pearson\").round(3)[\"Historical_Cost_of_Ride\"]"
   ]
  },
  {
   "cell_type": "markdown",
   "id": "0f438c6a-ad9a-403a-bdb2-ae7698080fae",
   "metadata": {},
   "source": [
    "Pearson correlations for specific cost of ride percentile:"
   ]
  },
  {
   "cell_type": "code",
   "execution_count": null,
   "id": "43f1bb1b-0ffb-4b78-8120-e1cd87464bba",
   "metadata": {},
   "outputs": [],
   "source": [
    "PERCENTILE = 0.8\n",
    "PERCENTILE_WINDOW = 0.1\n",
    "price_lambda = df[\"Historical_Cost_of_Ride\"].max() * PERCENTILE_WINDOW / 2\n",
    "price_percentile = df[\"Historical_Cost_of_Ride\"].quantile(PERCENTILE)\n",
    "df_selected = df[(df[\"Historical_Cost_of_Ride\"] < price_percentile + price_lambda) & (df[\"Historical_Cost_of_Ride\"] > price_percentile - price_lambda)]\n",
    "df_selected.corr(method=\"pearson\").round(3).sort_values(by=\"Historical_Cost_of_Ride\", ascending=False)[\"Historical_Cost_of_Ride\"].iloc[1:]"
   ]
  },
  {
   "cell_type": "markdown",
   "id": "9f2413e3-ad11-41cd-b79c-2590c0b3745a",
   "metadata": {},
   "source": [
    "## Prepare data for model training"
   ]
  },
  {
   "cell_type": "code",
   "execution_count": null,
   "id": "3a0836d8-47d6-49b2-8f6a-cc682a9fef74",
   "metadata": {},
   "outputs": [],
   "source": [
    "# Shuffle input data\n",
    "df_shuffled = df.sample(frac=1, random_state=1234).reset_index(drop=True)\n",
    "\n",
    "# Define the split ratios\n",
    "train_ratio = 0.7\n",
    "validation_ratio = 0.15\n",
    "test_ratio = 1 - (train_ratio + validation_ratio)\n",
    "\n",
    "# Split the data\n",
    "train_end = int(train_ratio * len(df_shuffled))\n",
    "validation_end = int((train_ratio + validation_ratio) * len(df_shuffled))\n",
    "\n",
    "train_df = df_shuffled.iloc[:train_end]\n",
    "validation_df = df_shuffled.iloc[train_end:validation_end]\n",
    "test_df = df_shuffled.iloc[validation_end:]\n",
    "\n",
    "# Separate features (X) and target (y)\n",
    "X_train = train_df.drop(columns=[\"Historical_Cost_of_Ride\"])\n",
    "y_train = train_df[\"Historical_Cost_of_Ride\"]\n",
    "\n",
    "X_validation = validation_df.drop(columns=[\"Historical_Cost_of_Ride\"])\n",
    "y_validation = validation_df[\"Historical_Cost_of_Ride\"]\n",
    "\n",
    "X_test = test_df.drop(columns=[\"Historical_Cost_of_Ride\"])\n",
    "y_test = test_df[\"Historical_Cost_of_Ride\"]"
   ]
  },
  {
   "cell_type": "markdown",
   "id": "2b534b28-a788-49cc-a290-91c4db6a68ac",
   "metadata": {},
   "source": [
    "## Define model structure"
   ]
  },
  {
   "cell_type": "code",
   "execution_count": null,
   "id": "22a233ba-48c1-4258-bd9b-3e2bd066a550",
   "metadata": {},
   "outputs": [],
   "source": [
    "model = Sequential()\n",
    "model.add(Dense(64, input_dim=X_train.shape[1], activation=\"relu\"))\n",
    "model.add(Dense(32, activation=\"relu\"))\n",
    "model.add(Dense(16, activation=\"relu\"))\n",
    "model.add(Dense(1))  # Output layer with one neuron since we're predicting a single value\n",
    "\n",
    "# Compile the model\n",
    "model.compile(optimizer=\"adam\", loss=\"mean_squared_error\", metrics=[\"mae\"])"
   ]
  },
  {
   "cell_type": "markdown",
   "id": "4b433f09-6db5-43e9-9120-78de5b1251cf",
   "metadata": {},
   "source": [
    "## Train the model"
   ]
  },
  {
   "cell_type": "code",
   "execution_count": null,
   "id": "0386bcb1-e3c6-4007-94f6-598d9143571c",
   "metadata": {},
   "outputs": [],
   "source": [
    "model.fit(X_train, y_train, validation_data=(X_validation, y_validation), epochs=100, batch_size=32)"
   ]
  },
  {
   "cell_type": "markdown",
   "id": "27183c5a-d977-4b86-99dc-4308a629b434",
   "metadata": {},
   "source": [
    "## Evaluate results"
   ]
  },
  {
   "cell_type": "code",
   "execution_count": null,
   "id": "62bc1ab3-ccb4-4357-be47-8ac04b2344e2",
   "metadata": {},
   "outputs": [],
   "source": [
    "loss, mae = model.evaluate(X_test, y_test)"
   ]
  }
 ],
 "metadata": {
  "kernelspec": {
   "display_name": "Python 3 (ipykernel)",
   "language": "python",
   "name": "python3"
  },
  "language_info": {
   "codemirror_mode": {
    "name": "ipython",
    "version": 3
   },
   "file_extension": ".py",
   "mimetype": "text/x-python",
   "name": "python",
   "nbconvert_exporter": "python",
   "pygments_lexer": "ipython3",
   "version": "3.11.0"
  }
 },
 "nbformat": 4,
 "nbformat_minor": 5
}
