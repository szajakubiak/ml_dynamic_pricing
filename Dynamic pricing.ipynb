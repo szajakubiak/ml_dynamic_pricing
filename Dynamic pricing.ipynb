{
 "cells": [
  {
   "cell_type": "code",
   "execution_count": null,
   "id": "5f4fcbfc-b5e1-4538-a4ce-0df6188e3207",
   "metadata": {},
   "outputs": [],
   "source": [
    "import pandas as pd"
   ]
  },
  {
   "cell_type": "code",
   "execution_count": null,
   "id": "fd4ca8a2-0bad-4453-a53b-f0c6a6bc5d83",
   "metadata": {},
   "outputs": [],
   "source": [
    "df = pd.read_csv(\"dynamic_pricing.csv\")\n",
    "df.head()"
   ]
  },
  {
   "cell_type": "code",
   "execution_count": null,
   "id": "ca8496a3-39d5-4f91-9ee2-35c1effaeff1",
   "metadata": {},
   "outputs": [],
   "source": [
    "def category_to_columns(df: pd.DataFrame, column: str) -> pd.DataFrame:\n",
    "    df_dummies = pd.get_dummies(df[column], prefix=column, dtype=int)\n",
    "    df = df.drop(column, axis=1)\n",
    "    return pd.concat([df, df_dummies], axis=1)"
   ]
  },
  {
   "cell_type": "code",
   "execution_count": null,
   "id": "be6751f8-51cd-4b14-bb86-ec2446b5aa62",
   "metadata": {},
   "outputs": [],
   "source": [
    "df = category_to_columns(df, \"Location_Category\")\n",
    "df = category_to_columns(df, \"Customer_Loyalty_Status\")\n",
    "df = category_to_columns(df, \"Time_of_Booking\")\n",
    "df = category_to_columns(df, \"Vehicle_Type\")\n",
    "df.head()"
   ]
  },
  {
   "cell_type": "code",
   "execution_count": null,
   "id": "76ac3455-8b78-435a-bea3-2865a4d1b33f",
   "metadata": {},
   "outputs": [],
   "source": [
    "df.select_dtypes(include='number').corr(method=\"pearson\").round(3)"
   ]
  },
  {
   "cell_type": "code",
   "execution_count": null,
   "id": "43f1bb1b-0ffb-4b78-8120-e1cd87464bba",
   "metadata": {},
   "outputs": [],
   "source": []
  }
 ],
 "metadata": {
  "kernelspec": {
   "display_name": "Python 3 (ipykernel)",
   "language": "python",
   "name": "python3"
  },
  "language_info": {
   "codemirror_mode": {
    "name": "ipython",
    "version": 3
   },
   "file_extension": ".py",
   "mimetype": "text/x-python",
   "name": "python",
   "nbconvert_exporter": "python",
   "pygments_lexer": "ipython3",
   "version": "3.11.0"
  }
 },
 "nbformat": 4,
 "nbformat_minor": 5
}
